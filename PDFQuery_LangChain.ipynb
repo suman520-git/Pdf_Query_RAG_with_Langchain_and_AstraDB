{
 "cells": [
  {
   "cell_type": "markdown",
   "id": "81d6910a",
   "metadata": {},
   "source": [
    "# Quickstart: Querying PDF With Astra and LangChain\n",
    "\n",
    "### A question-answering demo using Astra DB and LangChain, powered by Vector Search"
   ]
  },
  {
   "cell_type": "code",
   "execution_count": 1,
   "id": "a31f7a4f",
   "metadata": {},
   "outputs": [],
   "source": [
    "! pip install -q cassio datasets langchain openai tiktoken"
   ]
  },
  {
   "cell_type": "code",
   "execution_count": 2,
   "id": "de794269",
   "metadata": {},
   "outputs": [
    {
     "name": "stderr",
     "output_type": "stream",
     "text": [
      "d:\\Pdf_Query_RAG_with_Langchain_and_AstraDB\\venv\\lib\\site-packages\\tqdm\\auto.py:21: TqdmWarning: IProgress not found. Please update jupyter and ipywidgets. See https://ipywidgets.readthedocs.io/en/stable/user_install.html\n",
      "  from .autonotebook import tqdm as notebook_tqdm\n"
     ]
    }
   ],
   "source": [
    "# LangChain components to use\n",
    "from langchain.vectorstores.cassandra import Cassandra\n",
    "from langchain.indexes.vectorstore import VectorStoreIndexWrapper\n",
    "from langchain.llms import OpenAI\n",
    "from langchain.embeddings import OpenAIEmbeddings\n",
    "\n",
    "# Support for dataset retrieval with Hugging Face\n",
    "from datasets import load_dataset\n",
    "\n",
    "# With CassIO, the engine powering the Astra DB integration in LangChain,\n",
    "# you will also initialize the DB connection:\n",
    "import cassio"
   ]
  },
  {
   "cell_type": "code",
   "execution_count": null,
   "id": "7c6418b0",
   "metadata": {},
   "outputs": [],
   "source": [
    "import os\n",
    "from dotenv import load_dotenv\n",
    "load_dotenv()"
   ]
  },
  {
   "cell_type": "code",
   "execution_count": 3,
   "id": "25e00373",
   "metadata": {},
   "outputs": [
    {
     "name": "stdout",
     "output_type": "stream",
     "text": [
      "Collecting PyPDF2\n",
      "  Downloading pypdf2-3.0.1-py3-none-any.whl.metadata (6.8 kB)\n",
      "Downloading pypdf2-3.0.1-py3-none-any.whl (232 kB)\n",
      "Installing collected packages: PyPDF2\n",
      "Successfully installed PyPDF2-3.0.1\n"
     ]
    }
   ],
   "source": [
    "! pip install PyPDF2"
   ]
  },
  {
   "cell_type": "code",
   "execution_count": 4,
   "id": "8a3b3eb8",
   "metadata": {},
   "outputs": [],
   "source": [
    "from PyPDF2 import PdfReader"
   ]
  },
  {
   "cell_type": "code",
   "execution_count": null,
   "id": "4e29ca3a",
   "metadata": {},
   "outputs": [],
   "source": [
    "ASTRA_DB_APPLICATION_TOKEN = os.getenv(\"ASTRA_DB_APPLICATION_TOKEN\")\n",
    "\n",
    "ASTRA_DB_ID = os.getenv(\"ASTRA_DB_ID\")\n",
    "\n",
    "OPENAI_API_KEY=os.getenv(\"OPENAI_API_KEY\")"
   ]
  },
  {
   "cell_type": "code",
   "execution_count": 5,
   "id": "ef0657ab",
   "metadata": {},
   "outputs": [],
   "source": [
    "# provide the path of  pdf file/files.\n",
    "pdfreader = PdfReader('apjspeech.pdf')"
   ]
  },
  {
   "cell_type": "code",
   "execution_count": 7,
   "id": "3358699d",
   "metadata": {},
   "outputs": [],
   "source": [
    "# from typing_extensions import Concatenate\n",
    "# read text from pdf\n",
    "raw_text = ''\n",
    "for i, page in enumerate(pdfreader.pages):\n",
    "    content = page.extract_text()\n",
    "    if content:\n",
    "        raw_text += content"
   ]
  },
  {
   "cell_type": "code",
   "execution_count": 8,
   "id": "a735c999",
   "metadata": {},
   "outputs": [
    {
     "data": {
      "text/plain": [
       "'A P J Abdul Kalam Departing speech \\n \\n \\nFriends, I am delighted to address you all, in the country and those livi ng abroad, after \\nworking with you and completing five beautiful and eventful years in Rashtrapati \\nBhavan. Today, it is indeed a thanks giving occasion. I would like to narr ate, how I \\nenjoyed every minute of my tenure enriched by the wonderful assoc iation from each one \\nof you, hailing from different walks of life, be it politics, sci ence and technology, \\nacademics, arts, literature, business, judiciary, administration, local bodies, farming, \\nhome makers, special children, media and above all from the youth and st udent \\ncommunity who are the future wealth of our country. During my intera ction at \\nRashtrapati Bhavan in Delhi and at every state and union territor y as well as through my \\nonline interactions, I have many unique experiences to share with you, which signify the \\nfollowing important messages: \\n \\n1. Accelerate development : Aspiration of the youth, \\n \\n2. Empower villages, \\n \\n3. Mobilize rural core competence for competitiveness, \\n \\n4. Seed to Food: Backbone for agricultural growth \\n \\n5. Defeat problems and succeed, \\n \\n6. Overcome problems through partnership, \\n \\n7. Courage in combating calamities, \\n \\n8. Connectivity for societal transformation, \\n \\n9. Defending the nation: Our pride and \\n \\n10. Youth movement for Developed India 2020. \\n \\nNow let me share with you each of the messages. \\n \\nAccelerate Development: Aspiration of the youth \\nWhile there were many significant events during my tenure, a que stion from a little girl \\nAnukriti of Sri Sathya Sai Jagriti Vidya Mandir School, of Dar wa village from Haryana, \\nduring children’s visit to Rashtrapati Bhavan on May 22, 2006, rings in my  mind ever \\nafter. \\n \\nAnukriti asked me “why India cannot become a developed nation before the year 2020”. I \\nappreciated the question and said it was indeed a thoughtful question and as sured her that \\nthat her dream would be taken to the highest institution of the nation and we would work for it to achieve before 2020. This question reflects how the desire t o live in developed \\nIndia has entered into the minds of the youth. The same feelings are  echoed by over \\nfifteen lakh youth, whom I have met so far and who represent the drea m of the 540 \\nmillion youth of the nation. The aspirations of the young to live in a prosperous, safe and \\nproud India should be the guiding factor in whatever profession we contribute. \\n \\nEmpower Villages \\nFriends, I recall my visit to Nagaland on 26th October 2002, soon after m y assuming \\noffice as President. It was a unique experience for me at Khuza ma village to meet tribal \\nvillage council members and discuss with them the village progress  and the dream of \\nvillage citizens. I was very happy to see the empowered village  council functioning with \\nfinancial powers and taking decisions. I saw a prosperous village with fruits and \\nvegetables production. However, there is a need for providing physical c onnectivity in \\nNagaland through quality roads for enabling faster movement of produ cts from villages \\nto the market. That meeting gave me a powerful message about the t ransformation which \\ncan take place to the 600,000 villages of India, if all the villages a re empowered to deal \\nwith their development and are well connected among themselves and wit h the urban \\nsocieties. \\n \\nMobilizing rural core competence for competitiveness \\nNow I would like to talk about the initiative of Periyar Maniammai  College of \\nTechnology for Women, Vallam, Tanjore of Providing Urban Amenities in Rural Areas \\n(PURA) complex involving 65 villages with a population of 3 lakhs. This inc ludes \\nprovision of three connectivities - physical, electronic and knowledge  - leading to \\neconomic connectivity. Periyar PURA has health care centers, pr imary to post graduate \\nlevel education and vocational training centers. This has resulted i n large-scale \\nemployment generation and creation of number of entrepreneurs with the  active support \\nof 1000 self-help groups. Two hundred acres of waste land has been develope d into a \\ncultivable land. The villagers are busy in cultivation, planting Jatropha, herbal and \\nmedicinal plants, power generation using bio-mass, food processing and above all \\nrunning marketing centers. It provides a sustainable economic developm ent model for the \\nwhole region. \\n \\nDuring the last eight months, people of Periyar PURA villages technologically supported \\nby Periyar Maniammai College of Engineering for Women have w orked with experts \\nfrom Japan External Trade Organisation (JETRO) on various products, for  which core \\ncompetence and raw material are available in Thanjavur district. They developed \\ninternationally competitive prototypes for 55 life style products wi th support of JETRO \\nspecialists and feedback from exhibitions at Delhi and Tokyo. This co -operative venture \\nhas enhanced the innovative ability of the people of all the 65 villages  enabling them to \\ndevelop and produce internationally acceptable products. I have seen si milar type of \\nPURA being established in many states. The whole country needs 7000 PU RA to \\nbridging the rural – urban divide. \\n \\nSeed to Food: Backbone for agricultural growth Let me now share with you, the enriching experience I had, whil e meeting more than \\n6000 farmers from different States and Union Territories visitin g Rashtrapati Bhavan. \\nThey evinced keen interest in the Mughal Gardens, the Herbal Gardens , the Spiritual \\nGarden, the Musical Garden, the Bio-diesel garden and the Nutrition Garden and interact \\nwith the Horticultural specialists. Recently, during my address to the agricultural \\nscientists while participating in a National Symposium on “Agri culture Cannot Wait”, I \\nsummarized the many practical suggestions given by farmers. W e have to double the \\nagricultural production with reduced land, reduced water resources and re duced \\nmanpower and improve the economic conditions of the nation through the principle  of \\n“Seed to Food” since agriculture is the backbone of the nation. We should em power the \\nfarmers to protect and nurture the fertile land for second green re volution. Meeting the \\nScientists and the Farmers has given me the confidence \\nthat the nation is poised to increase the agricultural GDP growth by atleast 4% per annum \\nthrough the partnership of farmers and agricultural scientists a nd industries particularly \\nfor value addition. \\n \\nDefeat the problems and succeed \\nOn the evening of February 24, 2007, at Coimbatore, I had a very beautif ul experience. \\nAs I got ready for meeting the first person out of twenty appoint ments, a wheel chair was \\nin sight with a smiling person probably in his late fifties; unfortunately he has no hands \\nand legs. His radiant face was revealing his happy state of mi nd. He introduced himself \\nas Vidwan Coimbatore SR Krishna Murthy. I greeted him and asked him  how this had \\nhappened. He smilingly said that it was from by birth. He thanked G od, his parents, \\nteachers and many others for giving him confidence, training and he lp. I asked him, what \\nI could do for him? He said, “I don’t need anything from you. I would like to sing in fr ont \\nof you”. I readily agreed. He sang melodiously the Saint Thyagraj a’s pancha ratna kriti \\nentharo mahanubavulu in Sriragam giving me a glimpse of his talent. I was quite  touched. \\nWhat is the message? Despite being physically challenged, the latent talent of music \\ncould blossom in this \\nperson with his positive attitude and perseverance, encouraged by the pa rents, teachers, \\nacademics and rasikas. Now he wants to give, give and give his art to inspire others. Of \\ncourse, by his merit of music, in July 2007, he performed in the Rashtra pati Bhavan art \\ntheatre. \\n \\nOvercome the impact of disaster through partnership \\nI had the opportunity to experience the Indomitable Spirit of the people  and children of \\nJammu & Kashmir even as they were just recovering from the de vastating earthquake in \\n2005. I visited Urusa village on 26th November 2005 which has been adopted by the  \\nWestern Air Command, Air Force for providing relief and medical aid to the residents of \\nthat area. When I went there, I found that the school building had been severely  damaged. \\nI met all the school children and the village citizen of Urusa. T he villagers apprised me of \\ntheir losses and had all praise for Army and Air Force role in rescue and relief operations \\nalong with state government. I appreciate the courage of the people of Urusa in defeating \\ntheir problems. They have actually become the master of the probl em rather than \\nallowing problems to become their master. Despite the severe l oss due to the earthquake, the children and the members of the village participated in the reli ef operation with the \\nArmed Forces \\nbravely and were smiling when I went to meet them. They interact ed with me and said \\nthat the school was functional in the temporary tents. Here, I also witnessed the \\nparticipation of acting Chief Justice of Jammu & Kashmir along with State Government \\nauthorities in on-the-spot settlement of relief grants to be provide d to the victims whose \\nhouses had been damaged in the earth quake. I have experienced many s uch acts of \\ncourage from our citizens when faced with severe challenges. \\n \\nCourage in combating calamities \\nIn 2005, I met the Tribal Council Leaders, Students, Children of Chuckchucha  village \\nduring my visit to Car Nicobar Islands. While various reconstruction a nd rehabilitation \\nactivities were in progress, during the discussions with the members  of tribal council, I \\nrealized the unique trait among the Car-Nicobar islanders. Even thoug h there were many \\nhuman losses due to the Tsunami of 26 Dec 2004, the tribal islanders had  taken \\npossession of affected victims as their children and there is nothi ng like orphanage in \\nCar-Nicobar Islands. Touched by their courage, I composed few vers es called “Sea \\nWaves” which reads as follows: \\nSea Waves \\n \\nWe are the children of Sea waves, \\nSea waves are my friends. \\nWhen they become angry, \\nSea waves give the challenges. \\nGod has given the courage, \\nTo challenge the sea waves. \\nAnd we will succeed, \\nWe will succeed \\nWith Almighty’s grace. \\nAll the members who were gathered in the village sang the poem  with me and exhibited \\nlots of courage and enthusiasm even though they had gone through severe  suffering \\nduring the Tsunami. \\n \\nConnectivity for societal transformation \\nI addressed the Pan African Parliament on 16 September 2004, at Johanne sburg, South \\nAfrica. This was attended by 53 member countries of the Africa n Union, where I \\nproposed the concept of Pan African e-Network for providing seamless and integrated \\nsatellite, fiber optics and wireless network connecting 53 African countries at an \\nestimated cost of US $ 100 million. \\n \\nAs part of the project 12 universities (7 from India and 5 from Afri ca), 17 Super \\nSpecialty Hospitals (12 from India and 5 from Africa), 53 tele-me dicine centers and 53 \\ntele-education centres in Africa will be connected. The pilot proj ect on tele-education and \\ntele-medicine in Ethiopia has already been commissioned. Indira Gandh i National Open \\nUniversity has taken up the MBA Course for 34 Ethiopian students of Addis  Ababa and \\nHarmaya Universities. As regards, tele-medicine, the special ists from CARE Hospital, Hyderabad are providing one-hour live tele-consultation to doctors in B lack Lion \\nHospital, Addis Ababa in Cardiology and Radiology since November 2006. Using the \\nPan African network the Heads of the State in all the 53 countries  will be connected for \\ninstant communication. I am extremely happy that Indian experience  in bringing the \\nbenefits of technology to the people has enabled us to work with Afric a to bring societal \\ntransformation in the African continent. \\n \\nDefending the nation: Our pride \\nI visited KUMAR in Siachen Glacier located at 17,000 feet altitude  held by the Indian \\nArmy, had a memorable underwater journey in INS Sindhurakshak and flew  in a Sukhoi-\\n30 fighter experiencing 2.5 g. In these three experiences, I personal ly felt proud of our \\never vigilant Soldiers, Sailors and Air Warriors performing their  tasks beyond the call of \\ntheir duty even in the most adverse circumstances natural and man m ade. During the last \\nfive years, I had an opportunity to present colours to many regime nts, participate in \\nnumber of passing out parades, meet the troops who were going to undertake  peace \\nmissions and interact with the family members of our Defence F orces. Our Defence \\nForces are in a beautiful mission. When the nation sleeps during night , Members of our \\nDefence teams are awake to guard us and remain vigilant to counte r any threat. The \\nNation cherishes the valour, commitment and devotion to duty of our Defenc e Forces. \\nSimilarly, I had opportunities to interact \\nwith members of our para-military forces, central and state poli ce personnel including \\ninternal security forces who are making immense contribution in au gmenting the safety \\nand security of our citizens under difficult conditions. \\n \\nYouth movement for Developed India 2020 \\nRecently, in Hyderabad, I met a group of citizens who are putting i nto practice the motto \\nof transforming of our youth into enlightened citizen. The Lead India 2020 Found ation \\ncreated by Dr. N.B. Sudershan at Hyderabad is training thousands of s tudents in many \\ndistricts of Andhra Pradesh in partnership with the District Adm inistration. Particularly, I \\nhappened to know the transformation which has taken place among the students  of \\nMedak district. As per the district authorities the impact of the  training on the students is \\nvisible in terms of self-discipline, love for their parents and tea chers shedding of stage \\nfear and recognition of their duties towards the nation. I talke d to Ms. Padma, a student \\nleader from Andhra Pradesh Tribal Welfare School, Nalgonda who relat ed how she \\nweaned her father away from smoking after imbibing the spirit of  the 10 point oath from \\nthe Lead India Training Camp. This gives me an assurance that the  youth of our country \\nare on the right path \\nthrough this mission oriented programme. With the ignited minds of the  540 million \\nyouth below the age of 25, which I consider is the most powerful resour ce on the earth, \\nunder the earth and above the earth, we have to empower the youth through va lue based \\neducation and leadership. \\n \\nConclusion \\nI was touched by the variety of Indian panorama, emotional content of  the tune, cultural \\ndiversity and unity of minds in the vast land of ours. I have cited thes e examples just to \\ngive a glimpse of the richness of our tradition and effort being take n by different agencies to preserve it. There are also many new adventures by instituti ons and individuals. I have \\nexperienced many of them and learnt a lot about my country and our peopl e. Even while \\npursuing our economic growth, we need to do a lot to preserve the rich and diverse \\ntreasures of our culture and civilization. It is our duty for our fut ure generations. This has \\nto be done in a much larger scale through countrywide participatio n of multiple \\ninstitutions. Our country is blessed with natural resources, has shown c onsiderable \\nprogress in the last sixty years, and above all we have hard wor king people particularly \\nthe power of the 540 million youth of the country. Every sector of our count ry has given \\nme the \\nconfidence that India can become a developed nation well before 2020. Whomsoeve r, I \\nmet they constantly ask what they can give to the nation. We should c onstantly strive to \\nempower such members of the society. With this spirit, I am extr emely happy that we are \\non the right path. Here I am reminded of a famous poem: \\n\"When you wish upon a star, \\nMakes no difference who you are, \\nAnything your heart desires, \\nWill come to you” \\nThis poem is true to all of us, and particularly for our youth and i f they aim great, I am \\nsure they will reach close to the target or the target. \\n \\nMy dear citizens, let us resolve to continue to work for realizing the missions of \\ndeveloped India 2020 with the following distinctive profile. \\n \\n1. A Nation where the rural and urban divide has reduced to a thin line. \\n \\n2. A Nation where there is an equitable distribution and adequate acce ss to energy and \\nquality water. \\n \\n3. A Nation where agriculture, industry and service sector work together in sym phony. \\n \\n4. A Nation where education with value system is not denied to any meritorious \\ncandidates because of societal or economic discrimination. \\n \\n5. A Nation which is the best destination for the most talented s cholars, scientists, and \\ninvestors. \\n \\n6. A Nation where the best of health care is available to all. \\n \\n7. A Nation where the governance is responsive, transparent and corruption free. \\n \\n8. A Nation where poverty has been totally eradicated, illiterac y removed and crimes \\nagainst women and children are absent and none in the society feels alienated. \\n \\n9. A Nation that is prosperous, healthy, secure, peaceful and happy a nd continues with a \\nsustainable growth path. \\n 10. A Nation that is one of the best places to live in and is proud of its leadership. \\n \\nFinally let me thank each one of you for showering your love and aff ection on me \\nthroughout the last five years by your cooperation and support. \\n \\nDear Citizens, I conclude my address by sharing with you my mission in life which is to \\nbring connectivity between billion hearts and minds of the people of Indi a in our \\nmulticultural society and to embed the self confidence that \"we c an do it\". I will be \\nalways with you, dear citizens, in the great mission of making Indi a a developed nation \\nbefore 2020. \\n \\nMay God bless you. \\n \\nJai hind. \\nDr. A. P. J. Abdul Kalam \\nwww.presidentofindia.nic.in '"
      ]
     },
     "execution_count": 8,
     "metadata": {},
     "output_type": "execute_result"
    }
   ],
   "source": [
    "raw_text"
   ]
  },
  {
   "cell_type": "markdown",
   "id": "aa6a7747",
   "metadata": {},
   "source": [
    "Initialize the connection to your database:\n",
    "\n",
    "_(do not worry if you see a few warnings, it's just that the drivers are chatty about negotiating protocol versions with the DB.)_"
   ]
  },
  {
   "cell_type": "code",
   "execution_count": 9,
   "id": "a818e7c7",
   "metadata": {},
   "outputs": [],
   "source": [
    "cassio.init(token=ASTRA_DB_APPLICATION_TOKEN, database_id=ASTRA_DB_ID)"
   ]
  },
  {
   "cell_type": "code",
   "execution_count": 10,
   "id": "38624483",
   "metadata": {},
   "outputs": [
    {
     "name": "stderr",
     "output_type": "stream",
     "text": [
      "C:\\Users\\Suman Vemula\\AppData\\Local\\Temp\\ipykernel_5068\\1961253011.py:1: LangChainDeprecationWarning: The class `OpenAI` was deprecated in LangChain 0.0.10 and will be removed in 1.0. An updated version of the class exists in the :class:`~langchain-openai package and should be used instead. To use it run `pip install -U :class:`~langchain-openai` and import as `from :class:`~langchain_openai import OpenAI``.\n",
      "  llm = OpenAI(openai_api_key=OPENAI_API_KEY)\n",
      "C:\\Users\\Suman Vemula\\AppData\\Local\\Temp\\ipykernel_5068\\1961253011.py:2: LangChainDeprecationWarning: The class `OpenAIEmbeddings` was deprecated in LangChain 0.0.9 and will be removed in 1.0. An updated version of the class exists in the :class:`~langchain-openai package and should be used instead. To use it run `pip install -U :class:`~langchain-openai` and import as `from :class:`~langchain_openai import OpenAIEmbeddings``.\n",
      "  embedding = OpenAIEmbeddings(openai_api_key=OPENAI_API_KEY)\n"
     ]
    }
   ],
   "source": [
    "llm = OpenAI(openai_api_key=OPENAI_API_KEY)\n",
    "embedding = OpenAIEmbeddings(openai_api_key=OPENAI_API_KEY)"
   ]
  },
  {
   "cell_type": "markdown",
   "id": "356e2ed7",
   "metadata": {},
   "source": [
    "Create the LangChain embedding and LLM objects for later usage:"
   ]
  },
  {
   "cell_type": "code",
   "execution_count": 11,
   "id": "dc4c1922",
   "metadata": {},
   "outputs": [],
   "source": [
    "astra_vector_store = Cassandra(\n",
    "    embedding=embedding,\n",
    "    table_name=\"qa_mini_demo\",\n",
    "    session=None,\n",
    "    keyspace=None,\n",
    ")"
   ]
  },
  {
   "cell_type": "code",
   "execution_count": 12,
   "id": "c364d30e",
   "metadata": {},
   "outputs": [],
   "source": [
    "from langchain.text_splitter import CharacterTextSplitter\n",
    "# We need to split the text using Character Text Split such that it sshould not increse token size\n",
    "text_splitter = CharacterTextSplitter(\n",
    "    separator = \"\\n\",\n",
    "    chunk_size = 800,\n",
    "    chunk_overlap  = 200,\n",
    "    length_function = len,\n",
    ")\n",
    "texts = text_splitter.split_text(raw_text)"
   ]
  },
  {
   "cell_type": "code",
   "execution_count": 14,
   "id": "ec6c75b4",
   "metadata": {},
   "outputs": [
    {
     "data": {
      "text/plain": [
       "['A P J Abdul Kalam Departing speech \\n \\n \\nFriends, I am delighted to address you all, in the country and those livi ng abroad, after \\nworking with you and completing five beautiful and eventful years in Rashtrapati \\nBhavan. Today, it is indeed a thanks giving occasion. I would like to narr ate, how I \\nenjoyed every minute of my tenure enriched by the wonderful assoc iation from each one \\nof you, hailing from different walks of life, be it politics, sci ence and technology, \\nacademics, arts, literature, business, judiciary, administration, local bodies, farming, \\nhome makers, special children, media and above all from the youth and st udent \\ncommunity who are the future wealth of our country. During my intera ction at',\n",
       " 'home makers, special children, media and above all from the youth and st udent \\ncommunity who are the future wealth of our country. During my intera ction at \\nRashtrapati Bhavan in Delhi and at every state and union territor y as well as through my \\nonline interactions, I have many unique experiences to share with you, which signify the \\nfollowing important messages: \\n \\n1. Accelerate development : Aspiration of the youth, \\n \\n2. Empower villages, \\n \\n3. Mobilize rural core competence for competitiveness, \\n \\n4. Seed to Food: Backbone for agricultural growth \\n \\n5. Defeat problems and succeed, \\n \\n6. Overcome problems through partnership, \\n \\n7. Courage in combating calamities, \\n \\n8. Connectivity for societal transformation, \\n \\n9. Defending the nation: Our pride and']"
      ]
     },
     "execution_count": 14,
     "metadata": {},
     "output_type": "execute_result"
    }
   ],
   "source": [
    "texts[:2]"
   ]
  },
  {
   "cell_type": "markdown",
   "id": "59e48e0a",
   "metadata": {},
   "source": [
    "### Load the dataset into the vector store"
   ]
  },
  {
   "cell_type": "code",
   "execution_count": 15,
   "id": "1391891c",
   "metadata": {},
   "outputs": [
    {
     "name": "stdout",
     "output_type": "stream",
     "text": [
      "Inserted 31 headlines.\n"
     ]
    }
   ],
   "source": [
    "\n",
    "astra_vector_store.add_texts(texts[:50])\n",
    "\n",
    "print(\"Inserted %i headlines.\" % len(texts[:50]))\n",
    "\n",
    "astra_vector_index = VectorStoreIndexWrapper(vectorstore=astra_vector_store)"
   ]
  },
  {
   "cell_type": "markdown",
   "id": "67488a91",
   "metadata": {},
   "source": [
    "### Run the QA cycle\n",
    "\n",
    "Simply run the cells and ask a question -- or `quit` to stop. (you can also stop execution with the \"▪\" button on the top toolbar)"
   ]
  },
  {
   "cell_type": "code",
   "execution_count": null,
   "id": "7b8a8130",
   "metadata": {},
   "outputs": [],
   "source": [
    "first_question = True\n",
    "while True:\n",
    "    if first_question:\n",
    "        query_text = input(\"\\nEnter your question (or type 'quit' to exit): \").strip()\n",
    "    else:\n",
    "        query_text = input(\"\\nWhat's your next question (or type 'quit' to exit): \").strip()\n",
    "\n",
    "    if query_text.lower() == \"quit\":\n",
    "        break\n",
    "\n",
    "    if query_text == \"\":\n",
    "        continue\n",
    "\n",
    "    first_question = False\n",
    "\n",
    "    print(\"\\nQUESTION: \\\"%s\\\"\" % query_text)\n",
    "    answer = astra_vector_index.query(query_text, llm=llm).strip()\n",
    "    print(\"ANSWER: \\\"%s\\\"\\n\" % answer)\n",
    "\n",
    "    print(\"FIRST DOCUMENTS BY RELEVANCE:\")\n",
    "    for doc, score in astra_vector_store.similarity_search_with_score(query_text, k=4):\n",
    "        print(\"    [%0.4f] \\\"%s ...\\\"\" % (score, doc.page_content[:84]))"
   ]
  },
  {
   "cell_type": "code",
   "execution_count": null,
   "id": "7c4bf684",
   "metadata": {},
   "outputs": [],
   "source": []
  },
  {
   "cell_type": "code",
   "execution_count": null,
   "id": "46dc6e61",
   "metadata": {},
   "outputs": [],
   "source": []
  }
 ],
 "metadata": {
  "kernelspec": {
   "display_name": "Python 3",
   "language": "python",
   "name": "python3"
  },
  "language_info": {
   "codemirror_mode": {
    "name": "ipython",
    "version": 3
   },
   "file_extension": ".py",
   "mimetype": "text/x-python",
   "name": "python",
   "nbconvert_exporter": "python",
   "pygments_lexer": "ipython3",
   "version": "3.10.0"
  }
 },
 "nbformat": 4,
 "nbformat_minor": 5
}
