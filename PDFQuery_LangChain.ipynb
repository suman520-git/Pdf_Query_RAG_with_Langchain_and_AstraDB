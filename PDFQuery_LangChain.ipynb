{
 "cells": [
  {
   "cell_type": "markdown",
   "id": "81d6910a",
   "metadata": {},
   "source": [
    "# Quickstart: Querying PDF With Astra and LangChain\n",
    "\n",
    "### A question-answering demo using Astra DB and LangChain, powered by Vector Search"
   ]
  },
  {
   "cell_type": "code",
   "execution_count": 1,
   "id": "a31f7a4f",
   "metadata": {},
   "outputs": [],
   "source": [
    "! pip install -q cassio datasets langchain openai tiktoken"
   ]
  },
  {
   "cell_type": "code",
   "execution_count": 2,
   "id": "de794269",
   "metadata": {},
   "outputs": [
    {
     "name": "stderr",
     "output_type": "stream",
     "text": [
      "d:\\Pdf_Query_RAG_with_Langchain_and_AstraDB\\venv\\lib\\site-packages\\tqdm\\auto.py:21: TqdmWarning: IProgress not found. Please update jupyter and ipywidgets. See https://ipywidgets.readthedocs.io/en/stable/user_install.html\n",
      "  from .autonotebook import tqdm as notebook_tqdm\n"
     ]
    }
   ],
   "source": [
    "# LangChain components to use\n",
    "from langchain.vectorstores.cassandra import Cassandra\n",
    "from langchain.indexes.vectorstore import VectorStoreIndexWrapper\n",
    "from langchain.llms import OpenAI\n",
    "from langchain.embeddings import OpenAIEmbeddings\n",
    "\n",
    "# Support for dataset retrieval with Hugging Face\n",
    "from datasets import load_dataset\n",
    "\n",
    "# With CassIO, the engine powering the Astra DB integration in LangChain,\n",
    "# you will also initialize the DB connection:\n",
    "import cassio"
   ]
  },
  {
   "cell_type": "code",
   "execution_count": 3,
   "id": "7c6418b0",
   "metadata": {},
   "outputs": [
    {
     "data": {
      "text/plain": [
       "True"
      ]
     },
     "execution_count": 3,
     "metadata": {},
     "output_type": "execute_result"
    }
   ],
   "source": [
    "import os\n",
    "from dotenv import load_dotenv\n",
    "load_dotenv()"
   ]
  },
  {
   "cell_type": "code",
   "execution_count": 4,
   "id": "25e00373",
   "metadata": {},
   "outputs": [
    {
     "name": "stdout",
     "output_type": "stream",
     "text": [
      "Requirement already satisfied: PyPDF2 in d:\\pdf_query_rag_with_langchain_and_astradb\\venv\\lib\\site-packages (3.0.1)\n"
     ]
    }
   ],
   "source": [
    "! pip install PyPDF2"
   ]
  },
  {
   "cell_type": "code",
   "execution_count": 5,
   "id": "8a3b3eb8",
   "metadata": {},
   "outputs": [],
   "source": [
    "from PyPDF2 import PdfReader"
   ]
  },
  {
   "cell_type": "code",
   "execution_count": 6,
   "id": "4e29ca3a",
   "metadata": {},
   "outputs": [],
   "source": [
    "ASTRA_DB_APPLICATION_TOKEN = os.getenv(\"ASTRA_DB_APPLICATION_TOKEN\")\n",
    "\n",
    "ASTRA_DB_ID = os.getenv(\"ASTRA_DB_ID\")\n",
    "\n",
    "OPENAI_API_KEY=os.getenv(\"OPENAI_API_KEY\")"
   ]
  },
  {
   "cell_type": "code",
   "execution_count": 7,
   "id": "ef0657ab",
   "metadata": {},
   "outputs": [],
   "source": [
    "# provide the path of  pdf file/files.\n",
    "pdfreader = PdfReader('aa.pdf')"
   ]
  },
  {
   "cell_type": "code",
   "execution_count": 8,
   "id": "3358699d",
   "metadata": {},
   "outputs": [],
   "source": [
    "# from typing_extensions import Concatenate\n",
    "# read text from pdf\n",
    "raw_text = ''\n",
    "for i, page in enumerate(pdfreader.pages):\n",
    "    content = page.extract_text()\n",
    "    if content:\n",
    "        raw_text += content"
   ]
  },
  {
   "cell_type": "code",
   "execution_count": 9,
   "id": "a735c999",
   "metadata": {},
   "outputs": [
    {
     "data": {
      "text/plain": [
       "'A P J Abdul Kalam Departing speech Friends, I am delighted to \\naddress you all, in the country and those living abroad, after \\nworking with you and completing five beautiful and eventful \\nyears in Rashtrapati Bhavan. Today, it is indeed a thanks giving \\noccasion. I would like to narrate, how I enjoyed every minute of \\nmy tenure enriched by the wonderful association from each \\none of you, hailing from different walks of life, be it politics, \\nscience and technology, academics, arts, literature, business, \\njudiciary, administration, local bodies, farming, home makers, \\nspecial children, media and above all from the youth and \\nstudent community who are the future wealth of our country. \\nDuring my interaction at Rashtrapati Bhavan in Delhi and at \\nevery state and union territory as well as through my online \\ninteractions, I have many unique experiences to share with \\nyou, which signify the following important messages: 1. \\nAccelerate development : Aspiration of the youth, 2. Empower \\nvillages, 3. Mobilize rural core competence for competitiveness, \\n4. Seed to Food: Backbone for agricultural growth 5. Defeat \\nproblems and succeed, 6. Overcome problems through \\npartnership, 7. Courage in combating calamities, 8. \\nConnectivity for societal transformation, 9. Defending the \\nnation: Our pride and 10. Youth movement for Developed India \\n2020. Now let me share with you each of the messages. '"
      ]
     },
     "execution_count": 9,
     "metadata": {},
     "output_type": "execute_result"
    }
   ],
   "source": [
    "raw_text"
   ]
  },
  {
   "cell_type": "markdown",
   "id": "aa6a7747",
   "metadata": {},
   "source": [
    "Initialize the connection to your database:\n",
    "\n",
    "_(do not worry if you see a few warnings, it's just that the drivers are chatty about negotiating protocol versions with the DB.)_"
   ]
  },
  {
   "cell_type": "code",
   "execution_count": 10,
   "id": "a818e7c7",
   "metadata": {},
   "outputs": [],
   "source": [
    "cassio.init(token=ASTRA_DB_APPLICATION_TOKEN, database_id=ASTRA_DB_ID)"
   ]
  },
  {
   "cell_type": "code",
   "execution_count": 11,
   "id": "38624483",
   "metadata": {},
   "outputs": [
    {
     "name": "stderr",
     "output_type": "stream",
     "text": [
      "C:\\Users\\Suman Vemula\\AppData\\Local\\Temp\\ipykernel_8944\\1961253011.py:1: LangChainDeprecationWarning: The class `OpenAI` was deprecated in LangChain 0.0.10 and will be removed in 1.0. An updated version of the class exists in the :class:`~langchain-openai package and should be used instead. To use it run `pip install -U :class:`~langchain-openai` and import as `from :class:`~langchain_openai import OpenAI``.\n",
      "  llm = OpenAI(openai_api_key=OPENAI_API_KEY)\n",
      "C:\\Users\\Suman Vemula\\AppData\\Local\\Temp\\ipykernel_8944\\1961253011.py:2: LangChainDeprecationWarning: The class `OpenAIEmbeddings` was deprecated in LangChain 0.0.9 and will be removed in 1.0. An updated version of the class exists in the :class:`~langchain-openai package and should be used instead. To use it run `pip install -U :class:`~langchain-openai` and import as `from :class:`~langchain_openai import OpenAIEmbeddings``.\n",
      "  embedding = OpenAIEmbeddings(openai_api_key=OPENAI_API_KEY)\n"
     ]
    }
   ],
   "source": [
    "llm = OpenAI(openai_api_key=OPENAI_API_KEY)\n",
    "embedding = OpenAIEmbeddings(openai_api_key=OPENAI_API_KEY)"
   ]
  },
  {
   "cell_type": "markdown",
   "id": "356e2ed7",
   "metadata": {},
   "source": [
    "Create the LangChain embedding and LLM objects for later usage:"
   ]
  },
  {
   "cell_type": "code",
   "execution_count": 12,
   "id": "dc4c1922",
   "metadata": {},
   "outputs": [],
   "source": [
    "astra_vector_store = Cassandra(\n",
    "    embedding=embedding,\n",
    "    table_name=\"qa_mini_demo\",\n",
    "    session=None,\n",
    "    keyspace=None,\n",
    ")"
   ]
  },
  {
   "cell_type": "code",
   "execution_count": 13,
   "id": "c364d30e",
   "metadata": {},
   "outputs": [],
   "source": [
    "from langchain.text_splitter import CharacterTextSplitter\n",
    "# We need to split the text using Character Text Split such that it sshould not increse token size\n",
    "text_splitter = CharacterTextSplitter(\n",
    "    separator = \"\\n\",\n",
    "    chunk_size = 800,\n",
    "    chunk_overlap  = 200,\n",
    "    length_function = len,\n",
    ")\n",
    "texts = text_splitter.split_text(raw_text)"
   ]
  },
  {
   "cell_type": "code",
   "execution_count": 14,
   "id": "ec6c75b4",
   "metadata": {},
   "outputs": [
    {
     "data": {
      "text/plain": [
       "['A P J Abdul Kalam Departing speech Friends, I am delighted to \\naddress you all, in the country and those living abroad, after \\nworking with you and completing five beautiful and eventful \\nyears in Rashtrapati Bhavan. Today, it is indeed a thanks giving \\noccasion. I would like to narrate, how I enjoyed every minute of \\nmy tenure enriched by the wonderful association from each \\none of you, hailing from different walks of life, be it politics, \\nscience and technology, academics, arts, literature, business, \\njudiciary, administration, local bodies, farming, home makers, \\nspecial children, media and above all from the youth and \\nstudent community who are the future wealth of our country. \\nDuring my interaction at Rashtrapati Bhavan in Delhi and at',\n",
       " 'special children, media and above all from the youth and \\nstudent community who are the future wealth of our country. \\nDuring my interaction at Rashtrapati Bhavan in Delhi and at \\nevery state and union territory as well as through my online \\ninteractions, I have many unique experiences to share with \\nyou, which signify the following important messages: 1. \\nAccelerate development : Aspiration of the youth, 2. Empower \\nvillages, 3. Mobilize rural core competence for competitiveness, \\n4. Seed to Food: Backbone for agricultural growth 5. Defeat \\nproblems and succeed, 6. Overcome problems through \\npartnership, 7. Courage in combating calamities, 8. \\nConnectivity for societal transformation, 9. Defending the \\nnation: Our pride and 10. Youth movement for Developed India']"
      ]
     },
     "execution_count": 14,
     "metadata": {},
     "output_type": "execute_result"
    }
   ],
   "source": [
    "texts[:2]"
   ]
  },
  {
   "cell_type": "markdown",
   "id": "59e48e0a",
   "metadata": {},
   "source": [
    "### Load the dataset into the vector store"
   ]
  },
  {
   "cell_type": "code",
   "execution_count": 15,
   "id": "1391891c",
   "metadata": {},
   "outputs": [
    {
     "name": "stdout",
     "output_type": "stream",
     "text": [
      "Inserted 3 headlines.\n"
     ]
    }
   ],
   "source": [
    "\n",
    "astra_vector_store.add_texts(texts[:50])\n",
    "\n",
    "print(\"Inserted %i headlines.\" % len(texts[:50]))\n",
    "\n",
    "astra_vector_index = VectorStoreIndexWrapper(vectorstore=astra_vector_store)"
   ]
  },
  {
   "cell_type": "markdown",
   "id": "67488a91",
   "metadata": {},
   "source": [
    "### Run the QA cycle\n",
    "\n",
    "Simply run the cells and ask a question -- or `quit` to stop. (you can also stop execution with the \"▪\" button on the top toolbar)"
   ]
  },
  {
   "cell_type": "code",
   "execution_count": null,
   "id": "7b8a8130",
   "metadata": {},
   "outputs": [],
   "source": [
    "first_question = True\n",
    "while True:\n",
    "    if first_question:\n",
    "        query_text = input(\"\\nEnter your question (or type 'quit' to exit): \").strip()\n",
    "    else:\n",
    "        query_text = input(\"\\nWhat's your next question (or type 'quit' to exit): \").strip()\n",
    "\n",
    "    if query_text.lower() == \"quit\":\n",
    "        break\n",
    "\n",
    "    if query_text == \"\":\n",
    "        continue\n",
    "\n",
    "    first_question = False\n",
    "\n",
    "    print(\"\\nQUESTION: \\\"%s\\\"\" % query_text)\n",
    "    answer = astra_vector_index.query(query_text, llm=llm).strip()\n",
    "    print(\"ANSWER: \\\"%s\\\"\\n\" % answer)\n",
    "\n",
    "    print(\"FIRST DOCUMENTS BY RELEVANCE:\")\n",
    "    for doc, score in astra_vector_store.similarity_search_with_score(query_text, k=4):\n",
    "        print(\"    [%0.4f] \\\"%s ...\\\"\" % (score, doc.page_content[:84]))"
   ]
  },
  {
   "cell_type": "code",
   "execution_count": null,
   "id": "7c4bf684",
   "metadata": {},
   "outputs": [],
   "source": []
  },
  {
   "cell_type": "code",
   "execution_count": null,
   "id": "46dc6e61",
   "metadata": {},
   "outputs": [],
   "source": []
  }
 ],
 "metadata": {
  "kernelspec": {
   "display_name": "Python 3",
   "language": "python",
   "name": "python3"
  },
  "language_info": {
   "codemirror_mode": {
    "name": "ipython",
    "version": 3
   },
   "file_extension": ".py",
   "mimetype": "text/x-python",
   "name": "python",
   "nbconvert_exporter": "python",
   "pygments_lexer": "ipython3",
   "version": "3.10.0"
  }
 },
 "nbformat": 4,
 "nbformat_minor": 5
}
